{
 "cells": [
  {
   "cell_type": "markdown",
   "metadata": {},
   "source": [
    "<div>\n",
    "    <img src=\"headerbox.png\" style=\"width:100%\">\n",
    "</div>"
   ]
  },
  {
   "cell_type": "markdown",
   "metadata": {},
   "source": [
    "<b>Out-of-the-box outside-of-the-box thinking with</b>\n",
    "<h1>BraketLab</h1>\n",
    "\n",
    "---\n",
    "\n",
    "<b>Developed for the <a href=\"https://www.mn.uio.no/ccse/english/about/news-and-events/events/the-bi-weekly-odd-seminar-series-at-ccse/\">ODD-seminar at the CCSE</a> by</b> Audun Skau Hansen <a href=\"mailto:a.s.hansen@kjemi.uio.no\">✉️</a> at the Department of Chemistry, The Hylleraas Centre for Quantum Molecular Sciences, University of Oslo (2021)</h4>"
   ]
  },
  {
   "cell_type": "code",
   "execution_count": 1,
   "metadata": {},
   "outputs": [
    {
     "data": {
      "text/html": [
       "\n",
       "        <iframe\n",
       "            width=\"1000\"\n",
       "            height=\"800\"\n",
       "            src=\"https://uio.padlet.org/audunskauhansen/xswuiajgknxn414z\"\n",
       "            frameborder=\"0\"\n",
       "            allowfullscreen\n",
       "        ></iframe>\n",
       "        "
      ],
      "text/plain": [
       "<IPython.lib.display.IFrame at 0x7fbfd6eaa910>"
      ]
     },
     "execution_count": 1,
     "metadata": {},
     "output_type": "execute_result"
    }
   ],
   "source": [
    "from IPython.display import IFrame\n",
    "IFrame(\"https://uio.padlet.org/audunskauhansen/xswuiajgknxn414z\", width = 1000, height= 800)"
   ]
  },
  {
   "cell_type": "markdown",
   "metadata": {},
   "source": [
    "Quantum theory is riddled with abstract and complex topics, which for many students takes some time to digest. Familiar topics from linear algebra may be obfuscated by unfamiliar notation, and enforcing the rules and logic of quantum mechanics requires the students to actively recollect and understand theory.\n",
    "\n",
    "<b>BraketLab</b> is a tool for accelerated learning of quantum theory. It provides an algebraic framework where the notation and logic of quantum mechanics are automatically enforced, thus allowing students to build intuition by means of exploration. With an object-oriented focus and operator overloading, the abstract concepts of quantum mechanics can be made more concrete and tangible, expressed in a language familiar to students competent in programming. It may not be <i>the path</i> into quantum theory for everyone, but in many ways it opens new perspectives, thus making the content more accessible to a larger audience. \n",
    "\n",
    "This Notebook will take you on a tour through most of the functionality of BraketLab as of december 2021. Let's begin by importing our required modules:"
   ]
  },
  {
   "cell_type": "code",
   "execution_count": null,
   "metadata": {},
   "outputs": [],
   "source": [
    "import numpy as np # Numpy for numerics\n",
    "import sympy as sp # We need sympy for defining our functions\n",
    "import matplotlib.pyplot as plt # Matplotlib for visualization\n",
    "\n",
    "import braketlab as bk # <- pip install braketlab (if you don't have it) \n",
    "\n",
    "sp.init_printing() # <- pretty display of mathematical expressions\n",
    "%matplotlib notebook"
   ]
  },
  {
   "cell_type": "markdown",
   "metadata": {},
   "source": [
    "## Bra-ket notation\n",
    "\n",
    "Quantum mechanics is commonly expressed in Bra-Ket notation, often named <i>Dirac notation</i>, after Paul Dirac who introduced the formalism in a <a href=\"https://www.ifsc.usp.br/~lattice/wp-content/uploads/2014/02/Dirac_notation.pdf\">surprisingly short paper</a> back in 1939. This notation allows for a very compact and convenient mathematical treatment of quantum theory.\n",
    "\n",
    "It is built around the concept of a <b>Hilbert space</b>, in which a certain <b>linear vector space</b> is combined with a specific <b>inner product</b>. This space is spanned by so-called <b>kets</b>:\n",
    "\\begin{equation}\n",
    "\\vert a \\rangle = \\sum_{i=1}^3 \\vert u_i \\rangle a_i,\n",
    "\\end{equation}\n",
    "which, in fact, is the same thing as a vector\n",
    "\\begin{equation}\n",
    "\\mathbf{a}\n",
    "  =\n",
    "  \\begin{pmatrix}\n",
    "    a_1 \\\\\n",
    "    a_2 \\\\\n",
    "    a_3\n",
    "  \\end{pmatrix}\n",
    "  =\n",
    "  \\begin{pmatrix}\n",
    "    1 \\\\\n",
    "    0 \\\\\n",
    "    0\n",
    "  \\end{pmatrix}\n",
    "  a_1\n",
    "  +\n",
    "  \\begin{pmatrix}\n",
    "    0 \\\\\n",
    "    1 \\\\\n",
    "    0\n",
    "  \\end{pmatrix}\n",
    "  a_2\n",
    "  +\n",
    "  \\begin{pmatrix}\n",
    "    0 \\\\\n",
    "    0 \\\\\n",
    "    1\n",
    "  \\end{pmatrix}\n",
    "  a_3\n",
    "  =\n",
    "  \\mathbf{u}_1a_1 + \\mathbf{u}_2a_2 + \\mathbf{u}_3a_3\n",
    "  =\n",
    "  \\sum_{i=1}^3 \\mathbf{u}_ia_i\n",
    "\\end{equation}\n",
    "A feature of the kets that many may find unfamiliar is that they can be constructed from functions. \n",
    "\n",
    "Where you would normally have Euclidean vectors such as:"
   ]
  },
  {
   "cell_type": "code",
   "execution_count": null,
   "metadata": {},
   "outputs": [],
   "source": [
    "a = bk.ket([1.0,2], name = \"a\") # <- just like np.array([1.0, 2])\n",
    "b = bk.ket([0,-2], name = \"b\")\n",
    "bk.show(a,b) # <- visualize"
   ]
  },
  {
   "cell_type": "markdown",
   "metadata": {},
   "source": [
    "the kets allows you to define something like"
   ]
  },
  {
   "cell_type": "code",
   "execution_count": null,
   "metadata": {},
   "outputs": [],
   "source": [
    "x = sp.symbols(\"x\") # <- symbolic 'x' from sympy\n",
    "\n",
    "a = bk.ket( x*sp.exp(-x**2), name = \"a\" )\n",
    "b = bk.ket( sp.exp(-2*x**2), name = \"b\" )\n",
    "bk.show(a,b)"
   ]
  },
  {
   "cell_type": "markdown",
   "metadata": {},
   "source": [
    "Of course, the functions can be of arbitrary dimensionality, such as two:"
   ]
  },
  {
   "cell_type": "code",
   "execution_count": null,
   "metadata": {},
   "outputs": [],
   "source": [
    "x,y = sp.symbols(\"x y\")\n",
    "a = bk.ket( x*sp.exp(-.2*(x**2 + y**2)), name = \"a\") # A 2D ket\n",
    "bk.show(a)"
   ]
  },
  {
   "cell_type": "markdown",
   "metadata": {},
   "source": [
    "...or five (which is hard to visualize):"
   ]
  },
  {
   "cell_type": "code",
   "execution_count": null,
   "metadata": {},
   "outputs": [],
   "source": [
    "x,y,z,p,q = sp.symbols(\"x y z p q\")\n",
    "\n",
    "a = bk.ket( sp.exp(-(2*x**2 + y**2 + z**2 + p**2 + q**2)) )"
   ]
  },
  {
   "cell_type": "markdown",
   "metadata": {},
   "source": [
    "You may furthermore <i>evaluate</i> these functions in points:"
   ]
  },
  {
   "cell_type": "code",
   "execution_count": null,
   "metadata": {},
   "outputs": [],
   "source": [
    "a(.1,0,2,.1,.1)"
   ]
  },
  {
   "cell_type": "markdown",
   "metadata": {},
   "source": [
    "...or over ranges and grids:"
   ]
  },
  {
   "cell_type": "code",
   "execution_count": null,
   "metadata": {},
   "outputs": [],
   "source": [
    "a(np.linspace(-1,1,100), 0,0,0,0)"
   ]
  },
  {
   "cell_type": "markdown",
   "metadata": {},
   "source": [
    "(which in this case corresponds to computing the integral $\\int_{\\mathbb{R}^n} \\delta(\\mathbf{r}-\\mathbf{r}') a(\\mathbf{r}') d\\mathbf{r}'$)"
   ]
  },
  {
   "cell_type": "markdown",
   "metadata": {},
   "source": [
    "## Bra-ket algebra\n",
    "\n",
    "Just as you can do all sorts of algebra on Euclidian vectors:"
   ]
  },
  {
   "cell_type": "code",
   "execution_count": null,
   "metadata": {},
   "outputs": [],
   "source": [
    "a = bk.ket([ 2,4], name = \"a\")\n",
    "b = bk.ket([-2,3], name = \"b\")\n",
    "\n",
    "bk.show(a, b, a-b, a+b)"
   ]
  },
  {
   "cell_type": "markdown",
   "metadata": {},
   "source": [
    "the same can be done to the more abstract kets:"
   ]
  },
  {
   "cell_type": "code",
   "execution_count": null,
   "metadata": {},
   "outputs": [],
   "source": [
    "a = bk.ket( y*sp.exp(-2*(x**2 + y**2))/(1+.1*x**2) )\n",
    "b = bk.ket( .1*(y**2+x**2)*sp.sin(x**2)*sp.exp(-.5*y**2 -.5*x**2))\n",
    "\n",
    "bk.show(.1*a+2*b)"
   ]
  },
  {
   "cell_type": "markdown",
   "metadata": {},
   "source": [
    "You are probably familiar with the inner product most commonly associated with Euclidean vectors, the <b>dot</b>-product:"
   ]
  },
  {
   "cell_type": "code",
   "execution_count": null,
   "metadata": {},
   "outputs": [],
   "source": [
    "a = bk.ket([1,0])\n",
    "b = bk.ket([0,1])\n",
    "\n",
    "a.bra@b # <- dot product (these are orthogonal so should be zero)"
   ]
  },
  {
   "cell_type": "markdown",
   "metadata": {},
   "source": [
    "...but you may not be used with the notation used here. Let's have a look. For any ket:"
   ]
  },
  {
   "cell_type": "code",
   "execution_count": null,
   "metadata": {},
   "outputs": [],
   "source": [
    "a = bk.ket(y*sp.exp(-2*(x**2 + y**2))/(1+.1*x**2), name = \"a\")\n",
    "a"
   ]
  },
  {
   "cell_type": "markdown",
   "metadata": {},
   "source": [
    "we may define a bra:"
   ]
  },
  {
   "cell_type": "code",
   "execution_count": null,
   "metadata": {},
   "outputs": [],
   "source": [
    "a.bra"
   ]
  },
  {
   "cell_type": "markdown",
   "metadata": {},
   "source": [
    "Whenever a bra runs into a ket on its right, they form a so called <b>bra-ket</b> - the inner product:"
   ]
  },
  {
   "cell_type": "code",
   "execution_count": null,
   "metadata": {},
   "outputs": [],
   "source": [
    "a.bra@a"
   ]
  },
  {
   "cell_type": "markdown",
   "metadata": {},
   "source": [
    "The inner product is thus a mapping of two kets onto a complex number:\n",
    "\\begin{equation}\n",
    "\\langle a \\vert b \\rangle \\in \\mathbb{C}.\n",
    "\\end{equation}\n",
    "\n",
    "<b>Hilbert space</b> is spanned by all square normalizeable functions in $\\mathbb{R}^3$, \n",
    "\\begin{equation}\n",
    "\\{f_n\\} \\hspace{1cm} f_n \\in L^2,\n",
    "\\end{equation}\n",
    "provided the inner product\n",
    "\\begin{equation}\n",
    "\\langle f \\vert g \\rangle := \\int_{\\mathbb{R}^3} f(\\mathbf{r})^*g(\\mathbf{r}) d\\mathbf{r}.\n",
    "\\end{equation}"
   ]
  },
  {
   "cell_type": "markdown",
   "metadata": {},
   "source": [
    "## Orthonormality - normality and orthogonality\n",
    "\n",
    "Quantum mechanics deals with distributions evolving in time according to a wave equation. As would be the case with most waves, the distributions will then at some point oscillate between positive and negative values, thus calling for a different probability interpretation than the one we normally use.\n",
    "\n",
    "Rather than having the distribution $P$ normalized to one over $\\mathbb{R}^3$:\n",
    "\\begin{equation}\n",
    "\\int_{\\mathbb{R}^3} P(\\mathbf{x}) d\\mathbf{x} = 1,\n",
    "\\end{equation}\n",
    "we require our <i>wavefunction</i>, represented by $\\vert \\Psi \\rangle$, to be square-normalized to one, meaning that\n",
    "\n",
    "\\begin{equation}\n",
    "\\langle \\Psi \\vert \\Psi \\rangle = 1\n",
    "\\end{equation}\n",
    "\n",
    "Using BraketLab, we satistfy this condition by\n",
    "\\begin{equation}\n",
    "\\vert \\Psi \\rangle_{normalized} = \\frac{1}{ \\sqrt{\\langle \\Psi \\vert \\Psi \\rangle} }\\vert \\Psi \\rangle\n",
    "\\end{equation}\n",
    "in the following way:"
   ]
  },
  {
   "cell_type": "code",
   "execution_count": null,
   "metadata": {},
   "outputs": [],
   "source": [
    "psi = bk.ket( 2*sp.cos(2*x) * sp.exp(-.2*x**2), name = \"$\\\\psi$\" ) # <- some ket in Hilbert space\n",
    "\n",
    "psi_normalized = (psi.bra@psi)**-.5*psi #normalization\n",
    "\n",
    "psi_normalized.__name__ = \"$\\\\psi_n$\"\n",
    "bk.show(psi, psi_normalized)\n",
    "print(\"<psi   | psi  > = \", psi.bra@psi)\n",
    "print(\"<psi_n | psi_n> = \", psi_normalized.bra@psi_normalized)"
   ]
  },
  {
   "cell_type": "markdown",
   "metadata": {},
   "source": [
    "Being <i>orthogonal</i> to another function does not neccessarily mean that they do not have regions where they are both non-zero:"
   ]
  },
  {
   "cell_type": "code",
   "execution_count": null,
   "metadata": {
    "scrolled": false
   },
   "outputs": [],
   "source": [
    "psi_a = bk.ket( sp.cos(4*x) * sp.exp(-2*x**2), name = \"$\\\\psi_a$\" ) \n",
    "psi_b = bk.ket( sp.sin(3*x) * sp.exp(-2*x**2), name = \"$\\\\psi_b$\" ) \n",
    "\n",
    "bk.show(psi_a, psi_b)\n",
    "\n",
    "print(\"<psi_a | psi_b > = \", psi_a.bra@psi_b, \"(orthogonal)\")"
   ]
  },
  {
   "cell_type": "markdown",
   "metadata": {},
   "source": [
    "yet, we call integrals like the one above <i>overlap</i> integrals. You may be shocked to learn that quantum chemistry is more often than not carried out in a non-orthogonal basis."
   ]
  },
  {
   "cell_type": "markdown",
   "metadata": {},
   "source": [
    "<div style=\"margin:0px\">\n",
    "<table style=\"margin:0px;width:100%;height:100%;\">\n",
    "<tr style=\"background-color:rgba(0, 0, 0, 0);width:100%\">\n",
    "<td>\n",
    "<font size=\"3\" >\n",
    "<div class=\"alert alert-info\" role=\"alert\" align=\"left\">\n",
    "<h3>Behind the scenes</h3>\n",
    "<p></p>\n",
    "Inner products may be numerically estimated using a range of methods depending on the basis and the dimensionality. \n",
    "    \n",
    "For 1D integrals, BraketLab in general utilize quadrature methods. In higher dimensions, the integrals are computed using a combination of zero-variance Monte-Carlo methods [1], including (1) importance sampling, (2) interpolated control variates and (3) coordinate transforms. Repeated calculations of identical quantities is avoided by using the <code>lru_cache</code> decorator.\n",
    "\n",
    "In the long run, BraketLab will have basis-specific integrators, analytical and numerical, with fallback to multipurpose numerical methods where required. \n",
    "    \n",
    "[1] Caffarel, M. (2019). <i>Evaluating two-electron-repulsion integrals over arbitrary orbitals using zero variance Monte Carlo: Application to full configuration interaction calculations with Slater-type orbitals.</i> The Journal of Chemical Physics, 151(6), 064101.\n",
    "</div>\n",
    "</td>\n",
    "</tr>\n",
    "</table>"
   ]
  },
  {
   "cell_type": "markdown",
   "metadata": {},
   "source": [
    "## Outer products and operators\n",
    "\n",
    "Kets can be combined in many ways. For instance, the product of two kets is a new ket in a space often called <a href=\"https://en.wikipedia.org/wiki/Liouville_space\">Liouville space</a>:"
   ]
  },
  {
   "cell_type": "code",
   "execution_count": null,
   "metadata": {},
   "outputs": [],
   "source": [
    "psi_a = bk.ket( sp.exp(-.1*x**2), name = \"a\")\n",
    "psi_b = bk.ket( x*sp.exp(-.2*x**2), name = \"b\")\n",
    "bk.show(psi_a, psi_b)\n",
    "\n",
    "ab = psi_a@psi_b\n",
    "ab"
   ]
  },
  {
   "cell_type": "code",
   "execution_count": null,
   "metadata": {},
   "outputs": [],
   "source": [
    "bk.show(ab)"
   ]
  },
  {
   "cell_type": "code",
   "execution_count": null,
   "metadata": {},
   "outputs": [],
   "source": [
    "ab.ket_sympy_expression"
   ]
  },
  {
   "cell_type": "markdown",
   "metadata": {},
   "source": [
    "In addition to familiar operations such as addition, subtraction, division and multiplication, kets may be acted upon by several other operators. You'll encounter such an operator if you happen to multiply a ket with a bra to its right, the so-called <i>mapping operator</i>:"
   ]
  },
  {
   "cell_type": "code",
   "execution_count": null,
   "metadata": {},
   "outputs": [],
   "source": [
    "a = bk.ket( sp.exp(-4*x**2), name = \"a\")\n",
    "b = bk.ket( x*sp.exp(-6*x**2), name = \"b\")\n",
    "a@b.bra"
   ]
  },
  {
   "cell_type": "markdown",
   "metadata": {},
   "source": [
    "The trace of the mapping operator is called a projection operator:"
   ]
  },
  {
   "cell_type": "code",
   "execution_count": null,
   "metadata": {},
   "outputs": [],
   "source": [
    "bk.trace(a@b.bra)"
   ]
  },
  {
   "cell_type": "markdown",
   "metadata": {},
   "source": [
    "Operators in general <i>act</i> on kets, resulting in new kets:\n",
    "\\begin{equation}\n",
    "\\hat{\\Omega} \\vert a \\rangle = \\vert b \\rangle\n",
    "\\end{equation}\n",
    "\n",
    "Many other operators are of interest in quantum mechanics, such as translation, differentiation, multiplication by a variable. \n",
    "\n",
    "Certain operators called <i>Hermitian operators</i> represent observable quantities in quantum mechanics. Operators are thus a cruical part of the algebra og quantum theory. Several operators are available in BraketLab, let's look at some of them:"
   ]
  },
  {
   "cell_type": "code",
   "execution_count": null,
   "metadata": {},
   "outputs": [],
   "source": [
    "psi = bk.ket( sp.exp(-4*(x+3)**2))\n",
    "\n",
    "T = bk.get_translation_operator(np.array([2.1]))\n",
    "\n",
    "# Apply the translation operator one, two and three times\n",
    "Tpsi = T*psi\n",
    "TTpsi = T*T*psi\n",
    "TTTpsi = T*T*T*psi\n",
    "\n",
    "bk.show(psi, Tpsi, TTpsi, TTTpsi)"
   ]
  },
  {
   "cell_type": "code",
   "execution_count": null,
   "metadata": {},
   "outputs": [],
   "source": [
    "\n",
    "a = bk.ket( sp.exp(-x**2), name = \"a(x)\")\n",
    "\n",
    "D = bk.get_differential_operator(order = [1])\n",
    "\n",
    "Da = D*a\n",
    "Da.__name__ = \"$\\\\frac{d}{dx} a(x)$\"\n",
    "\n",
    "bk.show(a, Da)"
   ]
  },
  {
   "cell_type": "markdown",
   "metadata": {},
   "source": [
    "It generalizes to many dimensions:"
   ]
  },
  {
   "cell_type": "code",
   "execution_count": null,
   "metadata": {},
   "outputs": [],
   "source": [
    "\n",
    "a = bk.ket( x*sp.exp(-(x**2 + y**2)**.5))\n",
    "\n",
    "D = bk.get_differential_operator(order = [1,1])\n",
    "\n",
    "D2a = D*a\n",
    "\n",
    "bk.show(a)\n",
    "bk.show(D2a)"
   ]
  },
  {
   "cell_type": "markdown",
   "metadata": {},
   "source": [
    "The <i>Hamiltonian operator</i> of the electronic Hydrogen-equation is the Hermitian operator representing the energy of the Hydrogen system. It consists of the potential energy term:"
   ]
  },
  {
   "cell_type": "code",
   "execution_count": null,
   "metadata": {},
   "outputs": [],
   "source": [
    "V = bk.onebody_coulomb_operator()\n",
    "V"
   ]
  },
  {
   "cell_type": "markdown",
   "metadata": {},
   "source": [
    "and the kinetic term"
   ]
  },
  {
   "cell_type": "code",
   "execution_count": null,
   "metadata": {},
   "outputs": [],
   "source": [
    "T = bk.kinetic_operator()\n",
    "T"
   ]
  },
  {
   "cell_type": "markdown",
   "metadata": {},
   "source": [
    "Together, they describe the total energy of the electron in the Hydrogen atom, which in textbooks is introduced as the time-independent Schrödinger equation. Operators, like matrices, have eigenfunctions and eigenvalues. For Hermitian operators, the eigenfunctions and eigenvalues constitute the possible outcomes of measurements. \n",
    "\n",
    "The eigenfunctions of the Hydrogen-atom are the so-called spherical harmonics multiplied with a radial term:"
   ]
  },
  {
   "cell_type": "code",
   "execution_count": null,
   "metadata": {},
   "outputs": [],
   "source": [
    "n,l,m = 1,0,0\n",
    "\n",
    "psi_0 = bk.basisbank.get_hydrogen_function(n,l,m)\n",
    "psi_0.get_ket_sympy_expression()"
   ]
  },
  {
   "cell_type": "markdown",
   "metadata": {},
   "source": [
    "We can of course verify that they are eigenfunctions, in which case they should be proportional to eachother:"
   ]
  },
  {
   "cell_type": "code",
   "execution_count": null,
   "metadata": {},
   "outputs": [],
   "source": [
    "x_,y_,z_ = np.random.uniform(-1,1,(3,30))\n",
    "\n",
    "Hpsi_0 = V*psi_0 + T*psi_0\n",
    "\n",
    "Hpsi_0(x_,y_,z_)/psi_0(x_,y_,z_)"
   ]
  },
  {
   "cell_type": "markdown",
   "metadata": {},
   "source": [
    "...and the factor of proportionality is the eigenvalue. The eigenvalue is in this case the ground state energy, confirmed by computing $\\langle H \\rangle = \\langle \\psi_0 \\vert \\hat{H} \\vert \\psi_0 \\rangle $"
   ]
  },
  {
   "cell_type": "code",
   "execution_count": null,
   "metadata": {},
   "outputs": [],
   "source": [
    "print(\"E_0 = %.2f Hartrees\" % (psi_0.bra@(V*psi_0) + psi_0.bra@(T*psi_0)))"
   ]
  },
  {
   "cell_type": "markdown",
   "metadata": {},
   "source": [
    "Other functions does not satisfy this proportionality for Hydrogen, albeit the energy may not be too far off:"
   ]
  },
  {
   "cell_type": "code",
   "execution_count": null,
   "metadata": {},
   "outputs": [],
   "source": [
    "x,y,z = sp.symbols(\"x y z\")\n",
    "\n",
    "psi_trial = bk.ket( sp.exp(-.5*(x**2 +y**2 + z**2)) )\n",
    "psi_trial = (psi_trial.bra@psi_trial)**-.5*psi_trial #normalize\n",
    "print(\"E_0 = %.2f Hartrees\" % (psi_trial.bra@(V*psi_0) + psi_trial.bra@(T*psi_0)))\n",
    "\n",
    "Hpsi_trial = V*psi_trial + T*psi_trial\n",
    "\n",
    "Hpsi_trial(x_,y_,z_)/psi_trial(x_,y_,z_)"
   ]
  },
  {
   "cell_type": "markdown",
   "metadata": {},
   "source": [
    "<div style=\"margin:0px\">\n",
    "<table style=\"margin:0px;width:100%;height:100%;\">\n",
    "<tr style=\"background-color:rgba(0, 0, 0, 0);width:100%\">\n",
    "<td>\n",
    "<font size=\"3\" >\n",
    "<div class=\"alert alert-info\" role=\"alert\" align=\"left\">\n",
    "<h3>Behind the scenes</h3>\n",
    "<p></p>\n",
    "With BraketLab, you'll surf through Hilbert-space on the joint power of <a href=\"https://www.sympy.org/en/index.html\">sympy</a> and <a href=\"https://numpy.org/\">numpy</a>. Analytical derivation is easily performed with sympy, whereby integrals are computed numerically. In this sense, BraketLab is simply a wrapping of this two excellent modules into a framework very similar to what you would find in a book on quantum theory.\n",
    "</div>\n",
    "</td>\n",
    "</tr>\n",
    "</table>"
   ]
  },
  {
   "cell_type": "markdown",
   "metadata": {},
   "source": [
    "Eigenfunctions of system-specific Hamiltonians are generally called <i>stationary states</i>, and while their mathematical formulations may be intimidating, we mostly look them up in tables (or generate them on the fly) when we need them. For Hydrogen, these are:"
   ]
  },
  {
   "cell_type": "code",
   "execution_count": null,
   "metadata": {
    "scrolled": false
   },
   "outputs": [],
   "source": [
    "Nt = 200\n",
    "t = np.linspace(-1,1,Nt)*15\n",
    "for n in range(1,4):\n",
    "    for l in range(n):\n",
    "        for m in range(-l, l+1):\n",
    "            psi_nlm = bk.basisbank.get_hydrogen_function(n,l,m)\n",
    "            px = psi_nlm(t[:, None],t[None, :], .0*np.random.uniform(-1,1,(Nt,Nt)))\n",
    "            p = (np.conjugate(px)*px).real\n",
    "            plt.figure(figsize = (3,3))\n",
    "            plt.imshow(p)\n",
    "            plt.title(\"n,l,m=%i,%i,%i\" % (n,l,m))\n",
    "            plt.show()"
   ]
  },
  {
   "cell_type": "markdown",
   "metadata": {},
   "source": [
    "## Superposition\n",
    "\n",
    "With a complete basis, we may resolve the identity of any function in this basis by <i>projection</i>. \n",
    "\n",
    "For instance, the quantum harmonic oscillator has eigenfunctions in the shape of sinusoids enveloped by gaussians: "
   ]
  },
  {
   "cell_type": "code",
   "execution_count": null,
   "metadata": {
    "scrolled": false
   },
   "outputs": [],
   "source": [
    "bk.show( bk.basisbank.get_harmonic_oscillator_function(0),\n",
    "         bk.basisbank.get_harmonic_oscillator_function(1),\n",
    "         bk.basisbank.get_harmonic_oscillator_function(2),\n",
    "         bk.basisbank.get_harmonic_oscillator_function(3),\n",
    "       )"
   ]
  },
  {
   "cell_type": "markdown",
   "metadata": {},
   "source": [
    "If we conjure up another function, not present in this basis and slightly offset from the basis centre:"
   ]
  },
  {
   "cell_type": "code",
   "execution_count": null,
   "metadata": {},
   "outputs": [],
   "source": [
    "psi_sto = bk.ket( sp.exp( - sp.sqrt((x-1)**2) ) , name = \"sto\")\n",
    "bk.show(psi_sto)"
   ]
  },
  {
   "cell_type": "markdown",
   "metadata": {},
   "source": [
    "...the Harmonic oscillator eigenbasis is <i>complete</i>, meaning that with sufficiently many functions, <i>any</i> other L2-function can be represented as a linear combination / superposition of states by projection:"
   ]
  },
  {
   "cell_type": "code",
   "execution_count": null,
   "metadata": {},
   "outputs": [],
   "source": [
    "p = bk.basisbank.get_harmonic_oscillator_function(0)\n",
    "for i in range(1,15):\n",
    "    p += bk.basisbank.get_harmonic_oscillator_function(i)\n",
    "    \n",
    "P = bk.trace(p@p.bra) # <- form a projection operator\n",
    "\n",
    "psi_ho = P*psi_sto #<- project psi_sto onto the HO-basis\n",
    "\n",
    "bk.show(psi_sto, psi_ho) #<- compare the original to the projection"
   ]
  },
  {
   "cell_type": "markdown",
   "metadata": {},
   "source": [
    "(<i>Notice, however, how poorly the gaussians manage to capture the peak, or \"cusp\" of the exponential function. This is a well-known issue which has stuck with quantum chemistry ever since the 1950s when Boys introduced Gaussian type orbitals in place of Slater type orbitals, which in turn was introduced in the 1930s in order to avoid complications with the radial part of the hydrogen-solution.</i>)"
   ]
  },
  {
   "cell_type": "markdown",
   "metadata": {},
   "source": [
    "## Time evolution\n",
    "\n",
    "As time progresses, the function will evolve as a wave in the potential of the harmonic oscillator. With the known eigenbasis and eigenvalues of the Harmonic Oscillator, we may now watch what happens as time starts to flow:"
   ]
  },
  {
   "cell_type": "code",
   "execution_count": null,
   "metadata": {},
   "outputs": [],
   "source": [
    "psi_ho.run(dt = 0.02)"
   ]
  },
  {
   "cell_type": "markdown",
   "metadata": {},
   "source": [
    "## Measurement\n",
    "\n",
    "Measuring stuff in quantum mechanics consists of projecting the wavefunction into the basis of the eigenfunctions of the Hermitian operator being observed:\n",
    "\\begin{equation}\n",
    "\\vert \\Psi \\rangle_{\\Omega} = \\big{(} \\sum_i \\vert i \\rangle \\langle i \\vert \\big{)} \\vert \\Psi \\rangle = \\sum_i \\vert i \\rangle \\langle i \\vert \\Psi \\rangle = \\sum_i \\vert i \\rangle c_i,\n",
    "\\end{equation}\n",
    "where the square of the coefficients $\\vert c_i \\vert^2$are interpreted as the probability of finding the system in the corresponding state.\n",
    "\n",
    "BraketLab (do not yet fully) support measurement of the kets, for instance position:"
   ]
  },
  {
   "cell_type": "code",
   "execution_count": null,
   "metadata": {},
   "outputs": [],
   "source": [
    "ms = psi_ho.measure(repetitions = 1000)"
   ]
  },
  {
   "cell_type": "code",
   "execution_count": null,
   "metadata": {},
   "outputs": [],
   "source": [
    "ns, bins = np.histogram(ms)\n",
    "bins = .5*(bins[1:] + bins[:-1])\n",
    "plt.figure()\n",
    "plt.plot(bins, ns, \".\")\n",
    "plt.show()"
   ]
  },
  {
   "cell_type": "markdown",
   "metadata": {},
   "source": [
    "<div style=\"margin:0px\">\n",
    "<table style=\"margin:0px;width:100%;height:100%;\">\n",
    "<tr style=\"background-color:rgba(0, 0, 0, 0);width:100%\">\n",
    "<td>\n",
    "<font size=\"3\" >\n",
    "<div class=\"alert alert-info\" role=\"alert\" align=\"left\">\n",
    "<h3>Behind the scenes</h3>\n",
    "<p></p>\n",
    "A given Hermitian operator may be measured on a ket by providing it's eigenbasis to the measurement-method of the ket. Note that this is not fully implemented yet. Currently, when calling the measurement method, a Metropolis-Hastings random walk is performed in the probability distribution of choice (discrete in the case of a finite eigenbasis). By default, a measurement corresponds to measuring the position.\n",
    "</div>\n",
    "</td>\n",
    "</tr>\n",
    "</table>"
   ]
  },
  {
   "cell_type": "markdown",
   "metadata": {},
   "source": [
    "## Atoms and molecules \n",
    "\n",
    "From a quantum perspective, many-electron atoms may be seen as pertubed version of the Hydrogen atom. More electrons entering the system furthermore shifts us away from the Hydrogen-like solutions. Beyond atoms, we may consider molecules as perturbed versions of atoms. This motivates us to explore many-body quantum physics through the lens of independent particles, combined with the variational principle, stating that any trial wavefunction yields an upper estimate of the ground state energy of the system in question:\n",
    "\\begin{equation}\n",
    "E_0 \\leq \\frac{\\langle \\Psi_{trial} \\vert \\hat{H} \\vert \\Psi_{trial} \\rangle}{\\langle \\Psi_{trial} \\vert \\Psi_{trial} \\rangle}\n",
    "\\end{equation}\n",
    "\n",
    "Just keep in mind that the further away from the the hydrogen-case we move, the less reliable estimate is provided from the hydrogenlike, single-particle picture.\n",
    "\n",
    "Helium is a famous case, which was close to perfectly solved for by Egil Hylleraas at the golden age of quantum physics almost a hundred years ago. The problem illustrates the many facets of the role of electronic correlation in quantum chemistry (see for instance Tew, D. P., Klopper, W., & Helgaker, T. (2007). <i>Electron correlation: The many‐body problem at the heart of chemistry.</i> Journal of computational chemistry, 28(8), 1307-1320.)\n",
    "\n",
    "The Hamiltonian of Helium is (in atomic units, i.e. \n",
    "$\\hbar = 4 \\pi \\epsilon_0 = m_e = q_e = 1$):\n",
    "\\begin{equation}\n",
    "\\hat{H} = -\\frac{1}{2} \\big{(} \\nabla_1^2 + \\nabla_2^2 \\big{)} - \\frac{2}{r_1} - \\frac{2}{r_2} + \\frac{1}{r_{12}}\n",
    "\\end{equation}\n",
    "The ground state energy has been experimentally determined to be about -2.9 Hartrees. \n",
    "\n",
    "In the spirit of our current discussion, let's check how close we may get with a product of the Hydrogen-functions:\n",
    "\\begin{equation}\n",
    "\\vert \\Psi_{trial} \\rangle = \\vert \\psi_{h,0} \\rangle \\otimes \\vert \\psi_{h,0} \\rangle\n",
    "\\end{equation}\n",
    "\n",
    "If we neglect the two-body term, we can compute the remaining contributions with BraketLab in the following way:"
   ]
  },
  {
   "cell_type": "code",
   "execution_count": null,
   "metadata": {},
   "outputs": [],
   "source": [
    "psi_0 = bk.basisbank.get_hydrogen_function(1,0,0)\n",
    "\n",
    "E = 0\n",
    "\n",
    "# both contributions to the kinetic energy\n",
    "E_kin = psi_0.bra@(bk.kinetic_operator()*psi_0) * 2\n",
    "\n",
    "# both contributions to the potential energy from the core\n",
    "Z = 2\n",
    "E_nuc = psi_0.bra@(bk.onebody_coulomb_operator()*psi_0) * Z * 2\n",
    "\n",
    "print(\"E_0 < %.2f Hartrees\" % (E_kin + E_nuc), \" ( with inter-electronic repulsion neglected)\")"
   ]
  },
  {
   "cell_type": "markdown",
   "metadata": {},
   "source": [
    "Not surprisingly, our energy is below the experimental result, because we neglected the repulsion between the electrons. It is actually twice what we would find for a ionized Helium atom with only one electron. Let's now add the inter-electronic contribution (but be a bit patient, this is a 6-dimensional integral):"
   ]
  },
  {
   "cell_type": "code",
   "execution_count": null,
   "metadata": {},
   "outputs": [],
   "source": [
    "psi_he = psi_0@psi_0 #the product wavefunction\n",
    "\n",
    "E_vv = psi_he.bra@(bk.twobody_coulomb_operator()*psi_he)\n",
    "\n",
    "print(\"E_0 < %.2f Hartrees\" % (E_kin + E_nuc + E_vv), \" ( with inter-electronic repulsion included)\")"
   ]
  },
  {
   "cell_type": "markdown",
   "metadata": {},
   "source": [
    "We are now quite deep into it, so you may wonder what is going on here. Notice what happened to the variables of the ket-ket product function:"
   ]
  },
  {
   "cell_type": "code",
   "execution_count": null,
   "metadata": {},
   "outputs": [],
   "source": [
    "psi_he.ket_sympy_expression"
   ]
  },
  {
   "cell_type": "markdown",
   "metadata": {},
   "source": [
    "This function in Liouville space now describes the state of two electrons. When acting on this ket, the twobody Coulomb operator produces a new ket:"
   ]
  },
  {
   "cell_type": "code",
   "execution_count": null,
   "metadata": {},
   "outputs": [],
   "source": [
    "Jpsi_he = bk.twobody_coulomb_operator()*psi_he\n",
    "Jpsi_he.ket_sympy_expression"
   ]
  },
  {
   "cell_type": "markdown",
   "metadata": {},
   "source": [
    "Now the inner product includes also division by the distance between the integration coordinates of electron one and two. In general many-body quantum theory, these kinds of integrals are known as two-particle integrals, while in quantum chemistry they are mostly referred to as electron repulsion integrals (ERIs for short). BraketLab can deal with these implicitly as above, or explicitly as follows:"
   ]
  },
  {
   "cell_type": "code",
   "execution_count": null,
   "metadata": {},
   "outputs": [],
   "source": [
    "bk.eri_mci(psi_0, psi_0, psi_0, psi_0)"
   ]
  },
  {
   "cell_type": "markdown",
   "metadata": {},
   "source": [
    "In turn, this facilitates a very modular approach to implementing traditional quantum chemistry methods such as Hartree-Fock or DFT (if you have the time to wait for the integrals). It furthermore allows for thinking outside of the box of independent particles, gaussian type orbitals and slater determinants, which is why I have called BraketLab out-of-the-box outside-of-the-box thinking. \n",
    "\n",
    "It's out-of-the-box since you may simply do"
   ]
  },
  {
   "cell_type": "code",
   "execution_count": null,
   "metadata": {},
   "outputs": [],
   "source": [
    "pip install braketlab"
   ]
  },
  {
   "cell_type": "markdown",
   "metadata": {},
   "source": [
    "...to get it on your home computer. The outside-of-the-box-thinking-part is up to you, but there are not many confines here (*) so feel free to explore. I'd love to get your feedback and proposals for features, just keep in mind that this is a work in progress. Thank you for your attention!\n",
    "\n",
    "(*) Yet, many bugs and missing features."
   ]
  },
  {
   "cell_type": "markdown",
   "metadata": {},
   "source": [
    "(By the way, also check out <a href=\"https://github.com/audunsh/bubblebox\">BubbleBox</a> for learning molecular dynamics and thermodynamics)"
   ]
  }
 ],
 "metadata": {
  "kernelspec": {
   "display_name": "Python 3",
   "language": "python",
   "name": "python3"
  },
  "language_info": {
   "codemirror_mode": {
    "name": "ipython",
    "version": 3
   },
   "file_extension": ".py",
   "mimetype": "text/x-python",
   "name": "python",
   "nbconvert_exporter": "python",
   "pygments_lexer": "ipython3",
   "version": "3.7.4"
  }
 },
 "nbformat": 4,
 "nbformat_minor": 2
}
